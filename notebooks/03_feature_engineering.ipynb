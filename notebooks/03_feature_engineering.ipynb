{
 "cells": [
  {
   "cell_type": "code",
   "execution_count": null,
   "id": "dc616e1e-5a5d-451c-aa0a-69e727201e16",
   "metadata": {},
   "outputs": [],
   "source": [
    "# Constante\n",
    "DF_PATH = \"../data/processed/1_preprocessed_df.pkl\"\n",
    "JOB_LIST_PATH =\"../data/raw/roles_short_names.csv\" \n",
    "FIG_PATH = \"../reports/figures\"\n",
    "EXPORT_FEATURES_DIR = \"../data/processed/\"\n",
    "\n",
    "ROLE_COLS      = ['DevType']\n",
    "TECH_COLS      = ['DatabaseWorkedWith',\n",
    "                  'LanguageWorkedWith',\n",
    "                  # 'NEWCollabToolsWorkedWith',\n",
    "                  'PlatformWorkedWith',\n",
    "                  'MiscTechWorkedWith',\n",
    "                  'WebframeWorkedWith']\n",
    "SYST_COLS      = ['OpSys']\n"
   ]
  },
  {
   "cell_type": "code",
   "execution_count": null,
   "id": "b0c86138-4617-45e3-99d7-df6b6d4aac97",
   "metadata": {},
   "outputs": [],
   "source": [
    "import pandas as pd \n",
    "import numpy as np\n",
    "import pickle\n",
    "import os\n",
    "import logging\n",
    "import yaml\n",
    "\n",
    "# Visualisation mathplotlib\n",
    "import matplotlib.pyplot as plt\n",
    "import matplotlib.cm as cm\n",
    "\n",
    "# Visualisation plotly\n",
    "import plotly\n",
    "import plotly.graph_objects as go\n",
    "import plotly.express as px\n",
    "\n",
    "# Preprocessing\n",
    "from sklearn.preprocessing import StandardScaler\n",
    "from sklearn.preprocessing import MultiLabelBinarizer\n",
    "from sklearn.manifold import TSNE\n",
    "\n",
    "# Sci-klearn packages\n",
    "from sklearn.pipeline import make_pipeline\n",
    "from sklearn.cluster import AgglomerativeClustering\n",
    "from sklearn.model_selection import train_test_split\n",
    "\n",
    "from sklearn.multioutput import MultiOutputClassifier\n",
    "from sklearn.linear_model import LogisticRegression\n",
    "\n",
    "from sklearn.metrics import f1_score\n",
    "from sklearn.metrics import classification_report\n",
    "from sklearn.metrics import multilabel_confusion_matrix\n",
    "from sklearn.metrics import silhouette_score\n",
    "\n",
    "# Options:\n",
    "## Pandas number of row to display\n",
    "pd.options.display.max_rows = 1000"
   ]
  },
  {
   "cell_type": "markdown",
   "id": "806d4c66-e5bc-4798-a5a5-501dceba6fb6",
   "metadata": {
    "tags": []
   },
   "source": [
    "<h2 id=\"heading\"><span style=\"background-color:#cefffb; color:#1b4946; display:fill;border-radius:5px; font-family:cursive\"> 📊🧮 Read Data and preprocess it </span></h2>"
   ]
  },
  {
   "cell_type": "code",
   "execution_count": null,
   "id": "bffee08f-9d44-4193-a69b-f5db745c2d4f",
   "metadata": {},
   "outputs": [],
   "source": [
    "# Read Data \n",
    "df = pd.read_pickle(DF_PATH)"
   ]
  },
  {
   "cell_type": "code",
   "execution_count": null,
   "id": "bb9a17d1-9083-4391-9494-d172a5b0db27",
   "metadata": {},
   "outputs": [],
   "source": [
    "encoded_dfs = {}\n",
    "for col in ROLE_COLS + TECH_COLS:\n",
    "    mlb = MultiLabelBinarizer()\n",
    "    encoded_df = pd.DataFrame(mlb.fit_transform(df[col]),\n",
    "                              columns=mlb.classes_,\n",
    "                              index=df[col].index)\n",
    "    encoded_dfs[col] = encoded_df\n",
    "    \n",
    "# Merge 1-hot encoded \n",
    "ohe_df = pd.concat(encoded_dfs,\n",
    "                  axis=1)"
   ]
  },
  {
   "cell_type": "markdown",
   "id": "a67e1f2f-f9fe-4971-b887-8f2dfb117760",
   "metadata": {
    "tags": []
   },
   "source": [
    "<h2 id=\"heading\"><span style=\"background-color:#cefffb; color:#1b4946; display:fill;border-radius:5px; font-family:cursive\"> 🪫 Dimensionality reduction </span></h2>"
   ]
  },
  {
   "cell_type": "markdown",
   "id": "659750f4-5a76-489f-bef3-05b8ff3c4c65",
   "metadata": {},
   "source": [
    "<p style=\"padding: 6px;\n",
    "              color:#174f20;\">\n",
    "💡 We will use some technique for visualisation.\n",
    "</p>"
   ]
  },
  {
   "cell_type": "code",
   "execution_count": null,
   "id": "f3119e3b-34a4-4127-abe3-df67d7e83c1c",
   "metadata": {},
   "outputs": [],
   "source": [
    "# Prepare sub data frames \n",
    "skills_ohe = ohe_df.drop('DevType', axis=1).copy()\n",
    "std_skills = StandardScaler().fit_transform(skills_ohe)"
   ]
  },
  {
   "cell_type": "code",
   "execution_count": null,
   "id": "a52f20b5-4879-41a5-9532-d85f4ec60166",
   "metadata": {},
   "outputs": [],
   "source": [
    "std_skills"
   ]
  },
  {
   "cell_type": "markdown",
   "id": "976a8d9a-68f8-4da4-9b5e-f719e5cbc531",
   "metadata": {},
   "source": [
    "<font style=\"font-family:Georgia; color:#aa0c0c;\">\n",
    "📌 We need to do an standarization of the data to got an percision clustring \n",
    "</font>"
   ]
  },
  {
   "cell_type": "markdown",
   "id": "c6fd5c37-7c20-43f4-a356-653ca3af9b30",
   "metadata": {
    "tags": [],
    "toc-hr-collapsed": true
   },
   "source": [
    "<h4 id=\"heading\"><span style=\"background-color:#fcf3b9; color:#3d3710 ; display:fill;border-radius:5px; font-family:Georgia\"> 📋 PCA </span></h4>"
   ]
  },
  {
   "cell_type": "code",
   "execution_count": null,
   "id": "1701aac2-3ba4-448d-90f9-20aba90dbc1d",
   "metadata": {},
   "outputs": [],
   "source": [
    "from sklearn.decomposition import PCA\n",
    "from sklearn.decomposition import KernelPCA\n",
    "\n",
    "pca = KernelPCA(n_components=2)\n",
    "X_pca = pca.fit_transform(std_skills.T)\n",
    "pca_projection = pd.DataFrame(X_pca, index=skills_ohe.columns)"
   ]
  },
  {
   "cell_type": "code",
   "execution_count": null,
   "id": "8aae9e71-59b9-4c0f-8913-1e84e09b2229",
   "metadata": {
    "tags": []
   },
   "outputs": [],
   "source": [
    "?PCA"
   ]
  },
  {
   "cell_type": "code",
   "execution_count": null,
   "id": "bb8d2b3c-d032-4c1e-a7bf-2888e638f2fc",
   "metadata": {},
   "outputs": [],
   "source": [
    "pca_projection.shape"
   ]
  },
  {
   "cell_type": "code",
   "execution_count": null,
   "id": "3a2749b5-9aef-4818-b9a7-13b68e47bbff",
   "metadata": {},
   "outputs": [],
   "source": [
    "fig = px.scatter(x=pca_projection[0], y=pca_projection[1], text=pca_projection.droplevel(0).index)\n",
    "fig.update_traces(textposition='top center')\n",
    "fig.update_layout(height=1000, width=1000, title_text='TSNE')\n",
    "fig.show()"
   ]
  },
  {
   "cell_type": "markdown",
   "id": "c4040036-b312-42c5-8f9f-f2e51f843658",
   "metadata": {
    "tags": [],
    "toc-hr-collapsed": true
   },
   "source": [
    "<h4 id=\"heading\"><span style=\"background-color:#fcf3b9; color:#3d3710 ; display:fill;border-radius:5px; font-family:Georgia\"> 📋 TruncatedSVD </span></h4>"
   ]
  },
  {
   "cell_type": "code",
   "execution_count": null,
   "id": "7151d5d9-15a6-4645-9487-952442638653",
   "metadata": {},
   "outputs": [],
   "source": [
    "# ?TruncatedSVD\n",
    "\n",
    "# from sklearn.decomposition import TruncatedSVD\n",
    "\n",
    "# svd = TruncatedSVD(n_components=2, algorithm='randomized',\n",
    "#                    random_state=0,\n",
    "#                    n_iter=5,\n",
    "#                    n_oversamples=10,\n",
    "#                    power_iteration_normalizer='auto',\n",
    "#                    tol=0.0,)\n",
    "# X_svd = svd.fit_transform(std_skills.T)\n",
    "# svd_projection = pd.DataFrame(X_pca, index=skills_ohe.columns)\n",
    "\n",
    "# svd_projection.shape\n",
    "\n",
    "# fig = px.scatter(x=svd_projection[0], y=svd_projection[1], text=svd_projection.droplevel(0).index)\n",
    "# fig.update_traces(textposition='top center')\n",
    "# fig.update_layout(height=1000, width=1000, title_text='TSNE')\n",
    "# fig.show()"
   ]
  },
  {
   "cell_type": "markdown",
   "id": "08fe20dd-4068-4c7b-9fa9-4fc9a89974ec",
   "metadata": {
    "tags": [],
    "toc-hr-collapsed": true
   },
   "source": [
    "<h4 id=\"heading\"><span style=\"background-color:#fcf3b9; color:#3d3710 ; display:fill;border-radius:5px; font-family:Georgia\"> 📋 TSNE </span></h4>"
   ]
  },
  {
   "cell_type": "code",
   "execution_count": null,
   "id": "0c2a77fa-caa9-41fc-9268-60cf9906578a",
   "metadata": {},
   "outputs": [],
   "source": [
    "skills_ohe"
   ]
  },
  {
   "cell_type": "code",
   "execution_count": null,
   "id": "1775bfd9-5ecc-4b5f-b346-aa41b94894b7",
   "metadata": {},
   "outputs": [],
   "source": [
    "tsne_projection = TSNE(n_components=2, \n",
    "                       perplexity=3,\n",
    "                       learning_rate=0.01,\n",
    "                       init='pca', \n",
    "                       method='barnes_hut', \n",
    "                       n_jobs=2, \n",
    "                       n_iter=10**10,\n",
    "                       random_state=0).fit_transform(std_skills.T)\n",
    "\n",
    "tsne_projection = pd.DataFrame(tsne_projection, index=skills_ohe.columns, columns=['x','y'])"
   ]
  },
  {
   "cell_type": "code",
   "execution_count": null,
   "id": "2e8d355e-c588-4725-880e-d2efec242520",
   "metadata": {
    "tags": []
   },
   "outputs": [],
   "source": [
    "tsne_projection.shape, tsne_projection "
   ]
  },
  {
   "cell_type": "code",
   "execution_count": null,
   "id": "5782b9ac-4e56-42a1-a71d-cc36749e19c0",
   "metadata": {
    "tags": []
   },
   "outputs": [],
   "source": [
    "fig = px.scatter(x=tsne_projection['x'], y=tsne_projection['y'], text=tsne_projection.droplevel(0).index)\n",
    "fig.update_traces(textposition='top center')\n",
    "fig.update_layout(height=1000, width=1000, title_text='TSNE')\n",
    "fig.show()"
   ]
  },
  {
   "cell_type": "markdown",
   "id": "04ec439f-d046-469a-bcb1-cfa05b20ebcd",
   "metadata": {},
   "source": [
    "_________________"
   ]
  },
  {
   "cell_type": "markdown",
   "id": "4528109b-0391-494b-917a-89ed06098812",
   "metadata": {
    "tags": []
   },
   "source": [
    "<h2 id=\"heading\"><span style=\"background-color:#cefffb; color:#1b4946; display:fill;border-radius:5px; font-family:cursive\"> 🎡 Cluster  </span></h2>"
   ]
  },
  {
   "cell_type": "markdown",
   "id": "9b960b08-a34c-4050-ba44-c168054a8c03",
   "metadata": {},
   "source": [
    "<font style=\"font-family:Georgia; color:#aa0c0c;\">\n",
    "📌 We dont know how much of cluster we need\n",
    "</font>\n",
    "<br>\n",
    "<font style=\"font-family:Georgia; color:#174f20;\">\n",
    "💡 To solve this problem we need to use silhouette to know which number give much score \n",
    "</font>"
   ]
  },
  {
   "cell_type": "code",
   "execution_count": null,
   "id": "c0ce3df1-9d0b-4543-b178-ea08c5cac883",
   "metadata": {},
   "outputs": [],
   "source": [
    "# set an random list of posible nunber of cluster\n",
    "range_n_cluster = list(range(5,25))\n",
    "silhoutte_score = []\n",
    "best_cluster_model = None \n",
    "\n",
    "for n_clusters in range_n_cluster:\n",
    "    cluster_model  = AgglomerativeClustering(n_clusters=n_clusters, linkage='ward')\n",
    "    cluster_labels = cluster_model.fit_predict(tsne_projection)\n",
    "    \n",
    "    silhouette_avg = silhouette_score(tsne_projection, cluster_labels)\n",
    "    silhoutte_score += [silhouette_avg]\n",
    "    \n",
    "    if silhouette_avg >= np.max(silhoutte_score):\n",
    "        best_cluster_model = cluster_model"
   ]
  },
  {
   "cell_type": "code",
   "execution_count": null,
   "id": "93ef22d3-63fe-417f-a337-2da160aa55ab",
   "metadata": {},
   "outputs": [],
   "source": [
    "plt.plot(range_n_cluster, silhoutte_score)\n",
    "plt.axvline(best_cluster_model.n_clusters, color='black')"
   ]
  },
  {
   "cell_type": "code",
   "execution_count": null,
   "id": "63084e98-fcda-4f76-9ada-93fe9b954200",
   "metadata": {},
   "outputs": [],
   "source": [
    "cluster_labels = [\"skills_group_\" + str(label) \n",
    "                 for label in best_cluster_model.labels_]"
   ]
  },
  {
   "cell_type": "code",
   "execution_count": null,
   "id": "8e00218b-2fbb-4da9-8549-cf9892022743",
   "metadata": {
    "tags": []
   },
   "outputs": [],
   "source": [
    "# cluster_labels"
   ]
  },
  {
   "cell_type": "code",
   "execution_count": null,
   "id": "aa45d1ef-acd9-44ba-9a68-efeef5691fd5",
   "metadata": {},
   "outputs": [],
   "source": [
    "fig = px.scatter(x=tsne_projection['x'], \n",
    "                 y=tsne_projection['y'], \n",
    "                 text=tsne_projection.droplevel(0).index, \n",
    "                 color=cluster_labels)\n",
    "fig.update_traces(textposition='top center')\n",
    "fig.update_layout(height=800, width=800, title_text='Cluster')\n",
    "fig.show()"
   ]
  },
  {
   "cell_type": "code",
   "execution_count": null,
   "id": "992cf07e-b168-4c52-874c-877a2a09dc0c",
   "metadata": {},
   "outputs": [],
   "source": [
    "# How to better write this\n",
    "skills_clusters = tsne_projection.index.droplevel(0).to_series().groupby(cluster_labels).agg(list)"
   ]
  },
  {
   "cell_type": "markdown",
   "id": "b09e58ae-4a1b-4917-8194-17ba1900ed38",
   "metadata": {},
   "source": [
    "* what acctuly done is that the .index is for retraive the index of the dataframe\n",
    "* because we have multilpe index we need to drop the first level and that the perpose of the .droplevel(0)\n",
    "* to_setie() is to transform  the index to serie wich we can make transformation using the panda builting functions \n",
    "* .groupby() is groupe the index which contain the all names of the software and TI & skills\n",
    "* finally we use .agg(list/dict/...) or .apply(list/dict/...) aslo we can use .transform(list/dict/...) to apply the grouping to the element of the serie which in our case are the index"
   ]
  },
  {
   "cell_type": "code",
   "execution_count": null,
   "id": "ce49a6dc-c1f4-4573-8572-b12e9e4cc6c9",
   "metadata": {},
   "outputs": [],
   "source": [
    "#tsne_projection.index.droplevel(0).to_series().groupby(cluster_labels).apply(list)[0]"
   ]
  },
  {
   "cell_type": "code",
   "execution_count": null,
   "id": "0ccf95ec-3c0d-4fab-bdee-998294494b1d",
   "metadata": {},
   "outputs": [],
   "source": [
    "#cluster_labels"
   ]
  },
  {
   "cell_type": "code",
   "execution_count": null,
   "id": "0a84e786-a747-4cc7-98cc-829f099180ab",
   "metadata": {},
   "outputs": [],
   "source": [
    "skills_clusters"
   ]
  },
  {
   "cell_type": "code",
   "execution_count": null,
   "id": "d9bb40ea-b85f-47f2-b63a-38a5e88b07db",
   "metadata": {},
   "outputs": [],
   "source": [
    "for cluster, skills in skills_clusters.items():\n",
    "    print(cluster)\n",
    "    print(skills)"
   ]
  },
  {
   "cell_type": "markdown",
   "id": "ba12b51c-b34e-43ce-8555-017d24300c70",
   "metadata": {},
   "source": [
    "_________________"
   ]
  },
  {
   "cell_type": "markdown",
   "id": "c4bce3b1-bcf5-419a-b206-b30a2b731bc3",
   "metadata": {
    "tags": []
   },
   "source": [
    "<h2 id=\"heading\"><span style=\"background-color:#cefffb; color:#1b4946; display:fill;border-radius:5px; font-family:cursive\"> Create new features  </span></h2>"
   ]
  },
  {
   "cell_type": "markdown",
   "id": "cb0d0f31-2b41-4ebb-b0fb-13d6ab21eca5",
   "metadata": {},
   "source": [
    "the skills_clusters has 2d dimentions:\n",
    " 1. **skill** : which contain the skills that grouped with each other.\n",
    " 2. **cluster** : which has the name of the groupe of the skills.\n",
    "So to brakedown the cell bellow:\n",
    "* skills_ohe is the data the we allready encoded which has multiple column index\n",
    "* .droplevl(0, axis=1) to drop the first index so that return a datafram with one column index\n",
    "* when we add the bracket with the keyword 'list' like this [list] then we are extracting a subtable contain only the names in the list.\n",
    "* finaly when we add the .sum(axis=1) to the data extracted he sum over cloumns of that table and store them in single column\n",
    "\n",
    "To make a conclusion of that:\n",
    "- 📋 we summeraise for each individual how many tech of each groups that he\\she used in there work"
   ]
  },
  {
   "cell_type": "code",
   "execution_count": null,
   "id": "1a720c1b-4363-4f7d-998c-f6578c29a9d2",
   "metadata": {},
   "outputs": [],
   "source": [
    "# skills_ohe.droplevel(0, axis=1)[skills]"
   ]
  },
  {
   "cell_type": "code",
   "execution_count": null,
   "id": "06b5aeb2-afac-4745-8302-1562a0e2096f",
   "metadata": {},
   "outputs": [],
   "source": [
    "new_features = []\n",
    "\n",
    "for cluster, skills in skills_clusters.items():\n",
    "    cluster_sum = skills_ohe.droplevel(0, axis=1)[skills].sum(axis=1)\n",
    "    cluster_sum.name = cluster\n",
    "    new_features.append(cluster_sum)\n",
    "\n",
    "fe_clustered_skills = pd.concat(new_features, axis=1)"
   ]
  },
  {
   "cell_type": "code",
   "execution_count": null,
   "id": "52545f69-1694-49e9-9b2b-865e0370561a",
   "metadata": {},
   "outputs": [],
   "source": [
    "fe_clustered_skills"
   ]
  },
  {
   "cell_type": "markdown",
   "id": "9defc511-bcb2-4cef-86d0-9baea1998a28",
   "metadata": {},
   "source": [
    "_________________"
   ]
  },
  {
   "cell_type": "markdown",
   "id": "00079b9b-68a4-4491-bf2c-77d5411d33fc",
   "metadata": {
    "tags": []
   },
   "source": [
    "<h2 id=\"heading\"><span style=\"background-color:#cefffb; color:#1b4946; display:fill;border-radius:5px; font-family:cursive\"> Illustration Model  </span></h2>"
   ]
  },
  {
   "cell_type": "markdown",
   "id": "2396bc27-006a-4e2d-bcc8-a101145b6075",
   "metadata": {
    "tags": []
   },
   "source": [
    "#### Create train / test matrices "
   ]
  },
  {
   "cell_type": "code",
   "execution_count": null,
   "id": "c3d9cac1-29a2-4307-a07a-21e3f7cf4fb0",
   "metadata": {},
   "outputs": [],
   "source": [
    "# add the news groups features to the encoded data\n",
    "combined_features_df = pd.concat([fe_clustered_skills, \n",
    "                                  skills_ohe.droplevel(0,axis=1)], \n",
    "                                 axis=1)\n",
    "# creat the target variable by using the DevType\n",
    "roles_df = ohe_df['DevType'].copy()"
   ]
  },
  {
   "cell_type": "code",
   "execution_count": null,
   "id": "50e600ae-912a-4d3f-9fb4-6d0e9fa61b28",
   "metadata": {},
   "outputs": [],
   "source": [
    "X_train, X_test, Y_train, Y_test = train_test_split(combined_features_df, roles_df, test_size=0.3, random_state=0)"
   ]
  },
  {
   "cell_type": "markdown",
   "id": "57a6b3c0-466e-4176-8a15-ecfe07935a3b",
   "metadata": {},
   "source": [
    "#### Compute samples weight to deal with classes imbalance "
   ]
  },
  {
   "cell_type": "code",
   "execution_count": null,
   "id": "0176a191-301e-4225-a34b-b4498a4f3ce1",
   "metadata": {},
   "outputs": [],
   "source": [
    "np.multiply(class_weights.values, Y_train.values)"
   ]
  },
  {
   "cell_type": "code",
   "execution_count": null,
   "id": "0572d675-faa4-4de5-a1be-8d130316ee01",
   "metadata": {},
   "outputs": [],
   "source": [
    "# Assign class weight as an inverse of its frequency \n",
    "class_weights = (1 / roles_df.sum(axis=0))\n",
    "\n",
    "# Multiply class weights with the 1 hot encoded values and get the mean of each sample\n",
    "sample_weight = np.multiply(class_weights.values, Y_train.values).sum(axis=1)"
   ]
  },
  {
   "cell_type": "code",
   "execution_count": null,
   "id": "13af1a67-8940-42e5-88fb-97d715834a90",
   "metadata": {},
   "outputs": [],
   "source": [
    "Y_train.values.shape"
   ]
  },
  {
   "cell_type": "code",
   "execution_count": null,
   "id": "c21f4045-d365-47f2-83d4-517dac9c8970",
   "metadata": {},
   "outputs": [],
   "source": [
    "sample_weight"
   ]
  },
  {
   "cell_type": "markdown",
   "id": "0ff01fb0-80a2-439c-8cef-4fc426a16f75",
   "metadata": {},
   "source": [
    "#### Compute samples weight to deal with classes imbalance "
   ]
  },
  {
   "cell_type": "code",
   "execution_count": null,
   "id": "889d5d13-f4da-45e7-916b-affd11b43911",
   "metadata": {},
   "outputs": [],
   "source": [
    "def f1_from_confusion_matrix(confusion_matrix):\n",
    "    return (confusion_matrix[1,1] / \n",
    "            (confusion_matrix[1,1] + \n",
    "             (0.5 * (confusion_matrix[0,1] + confusion_matrix[1,0]))\n",
    "            ))"
   ]
  },
  {
   "cell_type": "code",
   "execution_count": null,
   "id": "74dca562-8932-4cd1-8f75-76a7906a1056",
   "metadata": {},
   "outputs": [],
   "source": [
    "feature_sets = {'original': skills_ohe.droplevel(0,axis=1).columns.tolist(), \n",
    "                'clusters': fe_clustered_skills.columns.tolist()}"
   ]
  },
  {
   "cell_type": "code",
   "execution_count": null,
   "id": "5a6fe924-3170-475b-a5ff-58e7918990b5",
   "metadata": {},
   "outputs": [],
   "source": [
    "# multilabel_confusion_matricies"
   ]
  },
  {
   "cell_type": "code",
   "execution_count": null,
   "id": "0c8f1c7e-2d8e-4cd1-894b-c2c221a90db6",
   "metadata": {},
   "outputs": [],
   "source": [
    "results = {}\n",
    "\n",
    "for feature_set_name, feature_set in feature_sets.items():\n",
    "    # Create sub trainings\n",
    "    sub_train = X_train[feature_set].copy()\n",
    "    sub_test  = X_test[feature_set].copy()\n",
    "    \n",
    "    # Train classifier \n",
    "    clf = MultiOutputClassifier(LogisticRegression())\n",
    "    clf.fit(sub_train, Y_train, sample_weight=sample_weight)\n",
    "\n",
    "    # Calcaulte F1 for training data\n",
    "    multilabel_confusion_matricies = multilabel_confusion_matrix(Y_train, clf.predict(sub_train))\n",
    "    f1_train_scores = [f1_from_confusion_matrix(matrix) \n",
    "                       for matrix in multilabel_confusion_matricies]\n",
    "\n",
    "    # Calcaulte F1 for testing data\n",
    "    multilabel_confusion_matricies = multilabel_confusion_matrix(Y_test, clf.predict(sub_test))\n",
    "    f1_test_scores = [f1_from_confusion_matrix(matrix) \n",
    "                       for matrix in multilabel_confusion_matricies]\n",
    "\n",
    "    # Add to results\n",
    "    set_result = pd.DataFrame({\"train\": f1_train_scores, \"test\":f1_test_scores}, \n",
    "                              index=roles_df.columns.to_list())\n",
    "    results[feature_set_name] = set_result.sort_values('test')\n",
    "    \n",
    "    \n",
    "    # Print\n",
    "    print(\"Feature set: \" + feature_set_name)\n",
    "    print(\".. Mean train F1:\", np.mean(f1_train_scores))    \n",
    "    print(\".. Mean test F1:\", np.mean(f1_test_scores))\n",
    "    print()"
   ]
  },
  {
   "cell_type": "markdown",
   "id": "6233bf76-02f0-4b44-adc1-1900e7bb5e01",
   "metadata": {},
   "source": [
    "_________________"
   ]
  },
  {
   "cell_type": "markdown",
   "id": "0f81a627-d836-465a-9535-1b968507e297",
   "metadata": {
    "tags": []
   },
   "source": [
    "<h2 id=\"heading\"><span style=\"background-color:#cefffb; color:#1b4946; display:fill;border-radius:5px; font-family:cursive\"> Export new features  </span></h2>"
   ]
  },
  {
   "cell_type": "code",
   "execution_count": null,
   "id": "e1e521ad-73f4-496b-a391-6505f4ee242b",
   "metadata": {},
   "outputs": [],
   "source": [
    "features_path = os.path.join(EXPORT_FEATURES_DIR, \"features_skills_clusters.pkl\")\n",
    "fe_clustered_skills.to_pickle(features_path)"
   ]
  },
  {
   "cell_type": "code",
   "execution_count": null,
   "id": "d94e4c2d-6602-4291-ab1b-2272ceb3ebc5",
   "metadata": {},
   "outputs": [],
   "source": [
    "description_path = os.path.join(EXPORT_FEATURES_DIR, \"features_skills_clusters_description.yaml\")\n",
    "with open(description_path, 'w') as outfile:\n",
    "    yaml.dump(skills_clusters.to_dict(), outfile)"
   ]
  }
 ],
 "metadata": {
  "kernelspec": {
   "display_name": "Python 3 (ipykernel)",
   "language": "python",
   "name": "python3"
  },
  "language_info": {
   "codemirror_mode": {
    "name": "ipython",
    "version": 3
   },
   "file_extension": ".py",
   "mimetype": "text/x-python",
   "name": "python",
   "nbconvert_exporter": "python",
   "pygments_lexer": "ipython3",
   "version": "3.10.6"
  }
 },
 "nbformat": 4,
 "nbformat_minor": 5
}

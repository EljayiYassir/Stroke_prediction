{
 "cells": [
  {
   "cell_type": "markdown",
   "id": "9be43337-ebdb-4761-9e7e-6259ef1e58f2",
   "metadata": {
    "tags": []
   },
   "source": [
    "***\n",
    "<h1 id=\"heading\"><center><span style=\"background-color:#5642C5; color:white ; display:fill;border-radius:5px; font-family:cursive\"> 1. Data Exploring 📊🔬</span></center><a class=\"anchor-link\" href=\"\">¶</a></h1>\n",
    "<p><center style=\"color:#159364; font-family:cursive;\">The best way to make yourself extremely valuable in a team is to understand everything, but being a master of something.</center></p>\n",
    "\n",
    "***\n"
   ]
  },
  {
   "cell_type": "markdown",
   "id": "4faa4584-eb93-4d6f-8fa6-b157a2e765c5",
   "metadata": {
    "tags": []
   },
   "source": [
    "<h3 id=\"heading\"><span style=\"background-color:#cefffb; color:#1b4946; display:fill;border-radius:5px; font-family:cursive\"> 👨‍💻 Description of the author </span></h3>"
   ]
  },
  {
   "cell_type": "markdown",
   "id": "1594190d-0c79-475d-b3d8-68a6f21b453a",
   "metadata": {
    "jp-MarkdownHeadingCollapsed": true,
    "tags": []
   },
   "source": [
    "* Font-Family: Georgia, Verdana, Cursive https://blog.hubspot.com/website/web-safe-html-css-fonts<br>\n",
    "* Colors Used: ['crimson', 'orange', #5642C5, #62d6cc, #50b5e7, #e7b550] https://htmlcolorcodes.com/fr/<br>\n",
    "* Emoji Used: [📚, 📌, 😃, 💬, 🎖, 📎, 🏆, 🗣, 🔭, 🌈, 💭, ⏳, 🙌🏻]"
   ]
  },
  {
   "cell_type": "markdown",
   "id": "a7e7f423-cf86-41e5-bfa4-bee64b116eef",
   "metadata": {},
   "source": [
    "<div style=\"color:white;\n",
    "           display:fill;\n",
    "           border-radius:5px;\n",
    "           background-color:#50b5e7;\n",
    "           font-size:110%;\n",
    "           font-family:Verdana;\n",
    "           letter-spacing:0.5px\">\n",
    "\n",
    "<p style=\"padding: 10px;\n",
    "              color:white;\">\n",
    "              All that is gold does not glitter,Not all those who wander are lost;The old that is strong does not wither,Deep roots are not reached by the frost.<br>fdsrge\n",
    "</p>\n",
    "</div>"
   ]
  },
  {
   "cell_type": "markdown",
   "id": "c007142c-891a-48b2-9d61-ec4b383ee674",
   "metadata": {},
   "source": [
    "The followed cell used for quoat\n",
    "<blockquote><p style=\"font-size:16px; color:#159364; font-family:verdana;\">💬 Finally, I would like to take this opportunity to remind everyone to be <code>kind</code>, <code>just</code> and <code>mindful</code>😃</p></blockquote>"
   ]
  },
  {
   "cell_type": "markdown",
   "id": "6934a743-75e8-45f4-b7cf-16b99d343a15",
   "metadata": {},
   "source": [
    "Social Media Contact:\n",
    "*  [Github](trgh)\n",
    "*  [My LinkedIn link ](https://www.linkedin.com/in/yassir-eljayi/)"
   ]
  },
  {
   "cell_type": "markdown",
   "id": "ca194299-aedd-4825-824d-770851268903",
   "metadata": {
    "tags": []
   },
   "source": [
    "<h3 id=\"heading\"><span style=\"background-color:#cefffb; color:#1b4946 ; display:fill;border-radius:5px; font-family:cursive\"> 📥 Import packages & data </span></h3>"
   ]
  },
  {
   "cell_type": "code",
   "execution_count": 1,
   "id": "1f1dc413-d371-4e32-9aa1-d3328b2b9877",
   "metadata": {},
   "outputs": [],
   "source": [
    "DATA_PATH = '/home/saitama/Project_healthcare/StrokePrediction/data/raw/healthcare-dataset-stroke-data.csv'"
   ]
  },
  {
   "cell_type": "code",
   "execution_count": 2,
   "id": "cea6e3b3-1bb7-45ff-acd0-ba468cc159a8",
   "metadata": {},
   "outputs": [],
   "source": [
    "import pandas as pd\n",
    "import numpy as np\n",
    "# The below options is useful for displaying multiple line \n",
    "pd.options.display.max_rows = 50000"
   ]
  },
  {
   "cell_type": "code",
   "execution_count": 3,
   "id": "7fd1bbef-4e7f-4482-b80f-a1159d75e882",
   "metadata": {},
   "outputs": [],
   "source": [
    "raw_df = pd.read_csv(DATA_PATH)"
   ]
  },
  {
   "cell_type": "markdown",
   "id": "ead87e31-f434-40ee-8e5d-a0e654a49be2",
   "metadata": {
    "tags": []
   },
   "source": [
    "<h3 id=\"heading\"><span style=\"background-color:#cefffb; color:#1b4946 ; display:fill;border-radius:5px; font-family:cursive\"> 🔬 Explore Overall data </span></h3>"
   ]
  },
  {
   "cell_type": "code",
   "execution_count": 4,
   "id": "aa4f0a30-766b-4d86-9a74-fb741b9d14f5",
   "metadata": {},
   "outputs": [
    {
     "data": {
      "text/plain": [
       "(5110, 12)"
      ]
     },
     "execution_count": 4,
     "metadata": {},
     "output_type": "execute_result"
    }
   ],
   "source": [
    "# What is the shape of the data\n",
    "raw_df.shape"
   ]
  },
  {
   "cell_type": "markdown",
   "id": "e9641811-6af9-4f55-94bd-7cec1d51dbe3",
   "metadata": {},
   "source": [
    "<span style=\"font-family:cursive;\n",
    "             color:#ff9d91\">Attribute Information:👨‍💻</span>\n",
    "\n",
    "1) id: unique identifier\n",
    "2) gender: \"Male\", \"Female\" or \"Other\"\n",
    "3) age: age of the patient\n",
    "4) hypertension: 0 if the patient doesn't have hypertension, 1 if the patient has hypertension\n",
    "5) heart_disease: 0 if the patient doesn't have any heart diseases, 1 if the patient has a heart disease\n",
    "6) ever_married: \"No\" or \"Yes\"\n",
    "7) work_type: \"children\", \"Govt_jov\", \"Never_worked\", \"Private\" or \"Self-employed\"\n",
    "8) Residence_type: \"Rural\" or \"Urban\"\n",
    "9) avg_glucose_level: average glucose level in blood\n",
    "10) bmi: body mass index\n",
    "11) smoking_status: \"formerly smoked\", \"never smoked\", \"smokes\" or \"Unknown\"*\n",
    "12) stroke: 1 if the patient had a stroke or 0 if not<br>\n",
    "<p style=\"padding: 6px;\n",
    "          color:#aa0c0c;\">\n",
    "📌 *Note: \"Unknown\" in smoking_status means that the information is unavailable for this patient.\n",
    "</p>\n",
    "\n",
    "![Stay Home](https://www.cdc.gov/diabetes/images/basics/CDC_Diabetes_Social_Ad_Concept_A2_Facebook.png \"Optional titled sfdsf\")\n"
   ]
  },
  {
   "cell_type": "code",
   "execution_count": 5,
   "id": "56eef2a5-1ec5-42db-ae60-f99ce8f40c16",
   "metadata": {
    "tags": []
   },
   "outputs": [
    {
     "name": "stdout",
     "output_type": "stream",
     "text": [
      "<class 'pandas.core.frame.DataFrame'>\n",
      "RangeIndex: 5110 entries, 0 to 5109\n",
      "Data columns (total 12 columns):\n",
      " #   Column             Non-Null Count  Dtype  \n",
      "---  ------             --------------  -----  \n",
      " 0   id                 5110 non-null   int64  \n",
      " 1   gender             5110 non-null   object \n",
      " 2   age                5110 non-null   float64\n",
      " 3   hypertension       5110 non-null   int64  \n",
      " 4   heart_disease      5110 non-null   int64  \n",
      " 5   ever_married       5110 non-null   object \n",
      " 6   work_type          5110 non-null   object \n",
      " 7   Residence_type     5110 non-null   object \n",
      " 8   avg_glucose_level  5110 non-null   float64\n",
      " 9   bmi                4909 non-null   float64\n",
      " 10  smoking_status     5110 non-null   object \n",
      " 11  stroke             5110 non-null   int64  \n",
      "dtypes: float64(3), int64(4), object(5)\n",
      "memory usage: 479.2+ KB\n"
     ]
    }
   ],
   "source": [
    "raw_df.info()"
   ]
  },
  {
   "cell_type": "markdown",
   "id": "2c267d02-f436-47ab-ab5c-e6194e52f89c",
   "metadata": {
    "tags": []
   },
   "source": [
    "<span style=\"font-family:cursive;\n",
    "             color:#ff9d91\">From the info above we can see two major problems:👨‍💻</span>\n",
    "- [ ] We have many missing values in the bmi column\n",
    "- [ ] In the smoking_status column we have the \"Unknown\" choice which refer to a missing value on this type of categorie"
   ]
  },
  {
   "cell_type": "markdown",
   "id": "05bb826e-cad1-40f4-998f-af6ed7fe134d",
   "metadata": {
    "tags": []
   },
   "source": [
    "<div style=\"display:fill;\n",
    "           border-radius:5px;\n",
    "           background-color:#ffdbdb;;\n",
    "           font-family:Georgia;\">\n",
    "\n",
    "<p style=\"padding: 6px;\n",
    "          color:#aa0c0c;\">\n",
    "📌 Our target is related to technologie skills and jobs. So, we need to use evry columns that can help us.\n",
    "</p>\n",
    "</div>\n",
    "\n",
    "<u>**Remarque:**</u><br>\n",
    "* .sample(n) give a \"**n**\" random sample from the data set but display it as datafram table --> give us a hard readbility when we have lot of column<br>\n",
    "    - **To do so** we use .iloc[m] to display the \"**m+1**\" row in the simple and the display are in the below format <br>\n",
    "* m shoud be small then n"
   ]
  },
  {
   "cell_type": "code",
   "execution_count": 10,
   "id": "d2de386f-6946-4c46-903c-23d8a0a08cbb",
   "metadata": {
    "tags": []
   },
   "outputs": [
    {
     "data": {
      "text/plain": [
       "id                          58477\n",
       "gender                     Female\n",
       "age                          45.0\n",
       "hypertension                    0\n",
       "heart_disease                   0\n",
       "ever_married                  Yes\n",
       "work_type                 Private\n",
       "Residence_type              Urban\n",
       "avg_glucose_level           81.24\n",
       "bmi                          37.0\n",
       "smoking_status       never smoked\n",
       "stroke                          0\n",
       "Name: 4189, dtype: object"
      ]
     },
     "execution_count": 10,
     "metadata": {},
     "output_type": "execute_result"
    }
   ],
   "source": [
    "raw_df.sample(1).iloc[0]"
   ]
  },
  {
   "cell_type": "code",
   "execution_count": 7,
   "id": "54aaa058-2349-4251-9221-9bda697776f4",
   "metadata": {},
   "outputs": [],
   "source": [
    "# COLUMNS_NEED_SPLIT = [\"DatabaseDesireNextYear\", \"DatabaseWorkedWith\",\n",
    "#                       \"DevType\",\n",
    "#                       \"NEWCollabToolsDesireNextYear\", \"NEWCollabToolsWorkedWith\",\n",
    "#                       \"OpSys\", \"PlatformDesireNextYear\", \"PlatformWorkedWith\",\n",
    "#                       \"UndergradMajor\",\n",
    "#                       \"WebframeDesireNextYear\", \"WebframeWorkedWith\"]\n",
    "# COLUMNS_HAVE_PROB  = [\"Age1stCode\", \"YearsCodePro\", \"YearsCode\"]\n",
    "# COLUMNS_TO_USE = COLUMNS_HAVE_PROB + COLUMNS_NEED_SPLIT\n",
    "# COLUMNS_FOR_JOB_HUNT = [\"NEWJobHuntResearch\", \"NEWJobHunt\"]"
   ]
  },
  {
   "cell_type": "markdown",
   "id": "dad62705-e498-4431-98c7-1a33e08e48e3",
   "metadata": {
    "tags": []
   },
   "source": [
    "<h3 id=\"heading\"><span style=\"background-color:#cefffb; color:#1b4946 ; display:fill;border-radius:5px; font-family:cursive\"> 🔬 Explore Columns </span></h3>"
   ]
  },
  {
   "cell_type": "markdown",
   "id": "277680bf-419e-42a8-ad30-20469143578c",
   "metadata": {
    "tags": []
   },
   "source": [
    "<h4 id=\"heading\"><span style=\"background-color:#fcf3b9; color:#3d3710 ; display:fill;border-radius:5px; font-family:Georgia\">1. 🗄️ Quique describe </span></h4>"
   ]
  },
  {
   "cell_type": "code",
   "execution_count": 8,
   "id": "89e76ae9-70ae-439f-8d9b-f67bb581a63a",
   "metadata": {},
   "outputs": [
    {
     "data": {
      "text/html": [
       "<div>\n",
       "<style scoped>\n",
       "    .dataframe tbody tr th:only-of-type {\n",
       "        vertical-align: middle;\n",
       "    }\n",
       "\n",
       "    .dataframe tbody tr th {\n",
       "        vertical-align: top;\n",
       "    }\n",
       "\n",
       "    .dataframe thead th {\n",
       "        text-align: right;\n",
       "    }\n",
       "</style>\n",
       "<table border=\"1\" class=\"dataframe\">\n",
       "  <thead>\n",
       "    <tr style=\"text-align: right;\">\n",
       "      <th></th>\n",
       "      <th>id</th>\n",
       "      <th>age</th>\n",
       "      <th>hypertension</th>\n",
       "      <th>heart_disease</th>\n",
       "      <th>avg_glucose_level</th>\n",
       "      <th>bmi</th>\n",
       "      <th>stroke</th>\n",
       "    </tr>\n",
       "  </thead>\n",
       "  <tbody>\n",
       "    <tr>\n",
       "      <th>count</th>\n",
       "      <td>5110.000000</td>\n",
       "      <td>5110.000000</td>\n",
       "      <td>5110.000000</td>\n",
       "      <td>5110.000000</td>\n",
       "      <td>5110.000000</td>\n",
       "      <td>4909.000000</td>\n",
       "      <td>5110.000000</td>\n",
       "    </tr>\n",
       "    <tr>\n",
       "      <th>mean</th>\n",
       "      <td>36517.829354</td>\n",
       "      <td>43.226614</td>\n",
       "      <td>0.097456</td>\n",
       "      <td>0.054012</td>\n",
       "      <td>106.147677</td>\n",
       "      <td>28.893237</td>\n",
       "      <td>0.048728</td>\n",
       "    </tr>\n",
       "    <tr>\n",
       "      <th>std</th>\n",
       "      <td>21161.721625</td>\n",
       "      <td>22.612647</td>\n",
       "      <td>0.296607</td>\n",
       "      <td>0.226063</td>\n",
       "      <td>45.283560</td>\n",
       "      <td>7.854067</td>\n",
       "      <td>0.215320</td>\n",
       "    </tr>\n",
       "    <tr>\n",
       "      <th>min</th>\n",
       "      <td>67.000000</td>\n",
       "      <td>0.080000</td>\n",
       "      <td>0.000000</td>\n",
       "      <td>0.000000</td>\n",
       "      <td>55.120000</td>\n",
       "      <td>10.300000</td>\n",
       "      <td>0.000000</td>\n",
       "    </tr>\n",
       "    <tr>\n",
       "      <th>25%</th>\n",
       "      <td>17741.250000</td>\n",
       "      <td>25.000000</td>\n",
       "      <td>0.000000</td>\n",
       "      <td>0.000000</td>\n",
       "      <td>77.245000</td>\n",
       "      <td>23.500000</td>\n",
       "      <td>0.000000</td>\n",
       "    </tr>\n",
       "    <tr>\n",
       "      <th>50%</th>\n",
       "      <td>36932.000000</td>\n",
       "      <td>45.000000</td>\n",
       "      <td>0.000000</td>\n",
       "      <td>0.000000</td>\n",
       "      <td>91.885000</td>\n",
       "      <td>28.100000</td>\n",
       "      <td>0.000000</td>\n",
       "    </tr>\n",
       "    <tr>\n",
       "      <th>75%</th>\n",
       "      <td>54682.000000</td>\n",
       "      <td>61.000000</td>\n",
       "      <td>0.000000</td>\n",
       "      <td>0.000000</td>\n",
       "      <td>114.090000</td>\n",
       "      <td>33.100000</td>\n",
       "      <td>0.000000</td>\n",
       "    </tr>\n",
       "    <tr>\n",
       "      <th>max</th>\n",
       "      <td>72940.000000</td>\n",
       "      <td>82.000000</td>\n",
       "      <td>1.000000</td>\n",
       "      <td>1.000000</td>\n",
       "      <td>271.740000</td>\n",
       "      <td>97.600000</td>\n",
       "      <td>1.000000</td>\n",
       "    </tr>\n",
       "  </tbody>\n",
       "</table>\n",
       "</div>"
      ],
      "text/plain": [
       "                 id          age  hypertension  heart_disease  \\\n",
       "count   5110.000000  5110.000000   5110.000000    5110.000000   \n",
       "mean   36517.829354    43.226614      0.097456       0.054012   \n",
       "std    21161.721625    22.612647      0.296607       0.226063   \n",
       "min       67.000000     0.080000      0.000000       0.000000   \n",
       "25%    17741.250000    25.000000      0.000000       0.000000   \n",
       "50%    36932.000000    45.000000      0.000000       0.000000   \n",
       "75%    54682.000000    61.000000      0.000000       0.000000   \n",
       "max    72940.000000    82.000000      1.000000       1.000000   \n",
       "\n",
       "       avg_glucose_level          bmi       stroke  \n",
       "count        5110.000000  4909.000000  5110.000000  \n",
       "mean          106.147677    28.893237     0.048728  \n",
       "std            45.283560     7.854067     0.215320  \n",
       "min            55.120000    10.300000     0.000000  \n",
       "25%            77.245000    23.500000     0.000000  \n",
       "50%            91.885000    28.100000     0.000000  \n",
       "75%           114.090000    33.100000     0.000000  \n",
       "max           271.740000    97.600000     1.000000  "
      ]
     },
     "execution_count": 8,
     "metadata": {},
     "output_type": "execute_result"
    }
   ],
   "source": [
    "raw_df.describe()"
   ]
  },
  {
   "cell_type": "markdown",
   "id": "9361f8ef-b638-44ef-8008-f3080e7312f3",
   "metadata": {
    "tags": []
   },
   "source": [
    "<h4 id=\"heading\"><span style=\"background-color:#fcf3b9; color:#3d3710 ; display:fill;border-radius:5px; font-family:Georgia\">2. 🗄️ Columns have problem </span></h4>"
   ]
  },
  {
   "cell_type": "code",
   "execution_count": 11,
   "id": "75374778-df77-48c6-85f5-be2d4d5ae828",
   "metadata": {
    "tags": []
   },
   "outputs": [
    {
     "data": {
      "text/html": [
       "<div>\n",
       "<style scoped>\n",
       "    .dataframe tbody tr th:only-of-type {\n",
       "        vertical-align: middle;\n",
       "    }\n",
       "\n",
       "    .dataframe tbody tr th {\n",
       "        vertical-align: top;\n",
       "    }\n",
       "\n",
       "    .dataframe thead th {\n",
       "        text-align: right;\n",
       "    }\n",
       "</style>\n",
       "<table border=\"1\" class=\"dataframe\">\n",
       "  <thead>\n",
       "    <tr style=\"text-align: right;\">\n",
       "      <th></th>\n",
       "      <th>id</th>\n",
       "      <th>gender</th>\n",
       "      <th>age</th>\n",
       "      <th>hypertension</th>\n",
       "      <th>heart_disease</th>\n",
       "      <th>ever_married</th>\n",
       "      <th>work_type</th>\n",
       "      <th>Residence_type</th>\n",
       "      <th>avg_glucose_level</th>\n",
       "      <th>bmi</th>\n",
       "      <th>smoking_status</th>\n",
       "      <th>stroke</th>\n",
       "    </tr>\n",
       "  </thead>\n",
       "  <tbody>\n",
       "    <tr>\n",
       "      <th>0</th>\n",
       "      <td>9046</td>\n",
       "      <td>Male</td>\n",
       "      <td>67.0</td>\n",
       "      <td>0</td>\n",
       "      <td>1</td>\n",
       "      <td>Yes</td>\n",
       "      <td>Private</td>\n",
       "      <td>Urban</td>\n",
       "      <td>228.69</td>\n",
       "      <td>36.6</td>\n",
       "      <td>formerly smoked</td>\n",
       "      <td>1</td>\n",
       "    </tr>\n",
       "    <tr>\n",
       "      <th>1</th>\n",
       "      <td>51676</td>\n",
       "      <td>Female</td>\n",
       "      <td>61.0</td>\n",
       "      <td>0</td>\n",
       "      <td>0</td>\n",
       "      <td>Yes</td>\n",
       "      <td>Self-employed</td>\n",
       "      <td>Rural</td>\n",
       "      <td>202.21</td>\n",
       "      <td>NaN</td>\n",
       "      <td>never smoked</td>\n",
       "      <td>1</td>\n",
       "    </tr>\n",
       "    <tr>\n",
       "      <th>2</th>\n",
       "      <td>31112</td>\n",
       "      <td>Male</td>\n",
       "      <td>80.0</td>\n",
       "      <td>0</td>\n",
       "      <td>1</td>\n",
       "      <td>Yes</td>\n",
       "      <td>Private</td>\n",
       "      <td>Rural</td>\n",
       "      <td>105.92</td>\n",
       "      <td>32.5</td>\n",
       "      <td>never smoked</td>\n",
       "      <td>1</td>\n",
       "    </tr>\n",
       "    <tr>\n",
       "      <th>3</th>\n",
       "      <td>60182</td>\n",
       "      <td>Female</td>\n",
       "      <td>49.0</td>\n",
       "      <td>0</td>\n",
       "      <td>0</td>\n",
       "      <td>Yes</td>\n",
       "      <td>Private</td>\n",
       "      <td>Urban</td>\n",
       "      <td>171.23</td>\n",
       "      <td>34.4</td>\n",
       "      <td>smokes</td>\n",
       "      <td>1</td>\n",
       "    </tr>\n",
       "    <tr>\n",
       "      <th>4</th>\n",
       "      <td>1665</td>\n",
       "      <td>Female</td>\n",
       "      <td>79.0</td>\n",
       "      <td>1</td>\n",
       "      <td>0</td>\n",
       "      <td>Yes</td>\n",
       "      <td>Self-employed</td>\n",
       "      <td>Rural</td>\n",
       "      <td>174.12</td>\n",
       "      <td>24.0</td>\n",
       "      <td>never smoked</td>\n",
       "      <td>1</td>\n",
       "    </tr>\n",
       "  </tbody>\n",
       "</table>\n",
       "</div>"
      ],
      "text/plain": [
       "      id  gender   age  hypertension  heart_disease ever_married  \\\n",
       "0   9046    Male  67.0             0              1          Yes   \n",
       "1  51676  Female  61.0             0              0          Yes   \n",
       "2  31112    Male  80.0             0              1          Yes   \n",
       "3  60182  Female  49.0             0              0          Yes   \n",
       "4   1665  Female  79.0             1              0          Yes   \n",
       "\n",
       "       work_type Residence_type  avg_glucose_level   bmi   smoking_status  \\\n",
       "0        Private          Urban             228.69  36.6  formerly smoked   \n",
       "1  Self-employed          Rural             202.21   NaN     never smoked   \n",
       "2        Private          Rural             105.92  32.5     never smoked   \n",
       "3        Private          Urban             171.23  34.4           smokes   \n",
       "4  Self-employed          Rural             174.12  24.0     never smoked   \n",
       "\n",
       "   stroke  \n",
       "0       1  \n",
       "1       1  \n",
       "2       1  \n",
       "3       1  \n",
       "4       1  "
      ]
     },
     "execution_count": 11,
     "metadata": {},
     "output_type": "execute_result"
    }
   ],
   "source": [
    "raw_df.head()"
   ]
  },
  {
   "cell_type": "markdown",
   "id": "f3ee52da-b7b2-438f-a910-327809c6c5e6",
   "metadata": {},
   "source": [
    "<div style=\"display:fill;\n",
    "           border-radius:5px;\n",
    "           background-color:#ffdbdb;;\n",
    "           font-family:Georgia;\">\n",
    "\n",
    "<p style=\"padding: 6px;\n",
    "          color:#aa0c0c;\">\n",
    "📌 <br>We can see that the problem is there are some string in those columns that why we have an object type insted of int or float type!.\n",
    "</p>\n",
    "</div>\n",
    "\n",
    "<p style=\"padding: 6px;\n",
    "          color:#11752c;\">\n",
    "📗 <br>\n",
    "    Change the following value for each column in the \"COLUMNS_HAVE_PROB\":<br>\n",
    "    * 'Less than 1 year'<br>\n",
    "    * 'More than 50 years'<br>\n",
    "    * 'Younger than 5 years'<br>\n",
    "    * 'Older than 85'\n",
    "</p>\n"
   ]
  }
 ],
 "metadata": {
  "kernelspec": {
   "display_name": "Python 3 (ipykernel)",
   "language": "python",
   "name": "python3"
  },
  "language_info": {
   "codemirror_mode": {
    "name": "ipython",
    "version": 3
   },
   "file_extension": ".py",
   "mimetype": "text/x-python",
   "name": "python",
   "nbconvert_exporter": "python",
   "pygments_lexer": "ipython3",
   "version": "3.10.6"
  }
 },
 "nbformat": 4,
 "nbformat_minor": 5
}

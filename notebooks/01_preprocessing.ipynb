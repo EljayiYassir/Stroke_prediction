{
 "cells": [
  {
   "cell_type": "code",
   "execution_count": 1,
   "id": "ec5593ff-ea51-497b-a06f-593dafa519e3",
   "metadata": {},
   "outputs": [],
   "source": [
    "# Constante\n",
    "DATA_PATH = '/home/saitama/Project_healthcare/StrokePrediction/data/raw/healthcare-dataset-stroke-data.csv' \n",
    "EXPORT_PATH = \"../data/processed/1_preprocessed_df.pkl\"\n",
    "\n",
    "# Columns need to be integer \n",
    "COLUMNS_HAVE_PROB = [\"bmi\", \"gender\"]"
   ]
  },
  {
   "cell_type": "markdown",
   "id": "ba4901ea-641e-4ddd-8e43-9d73b4c0845d",
   "metadata": {
    "tags": []
   },
   "source": [
    "***\n",
    "<h3 id=\"heading\"><span style=\"background-color:#cefffb; color:#1b4946 ; display:fill;border-radius:5px; font-family:cursive\"> 📥 Import packages & data </span></h3>"
   ]
  },
  {
   "cell_type": "code",
   "execution_count": 2,
   "id": "b2d7d51b-002d-4852-a22f-8076c561be75",
   "metadata": {},
   "outputs": [],
   "source": [
    "# Load necessary package \n",
    "import pandas as pd\n",
    "import missingno as msno\n",
    "import numpy as np\n",
    "import pickle\n",
    "import logging\n",
    "import math\n",
    "import random\n",
    "import os\n",
    "\n",
    "pd.options.display.max_rows = 20\n",
    "\n",
    "raw_df = pd.read_csv(DATA_PATH)"
   ]
  },
  {
   "cell_type": "markdown",
   "id": "75e4bc34-f99e-463c-aa07-47f1085cab0a",
   "metadata": {
    "tags": []
   },
   "source": [
    "***\n",
    "<h2 id=\"heading\"><span style=\"background-color:#cefffb; color:#1b4946; display:fill;border-radius:5px; font-family:cursive\"> 🧮 Preprocessing </span></h2>"
   ]
  },
  {
   "cell_type": "markdown",
   "id": "f02bfa4b-6970-4985-a00f-ea6b27c561a5",
   "metadata": {},
   "source": [
    "<h4 id=\"heading\"><span style=\"background-color:#fcf3b9; color:#3d3710 ; display:fill;border-radius:5px; font-family:Georgia\"> 📋 Preprocessing Data </span></h4>"
   ]
  },
  {
   "cell_type": "markdown",
   "id": "297183bc-453f-427a-90da-ada99358a87c",
   "metadata": {},
   "source": [
    "<div style=\"font-family:Georgia;\">\n",
    "    <p style=\"padding: 6px;\n",
    "              color:#aa0c0c;\">\n",
    "📌 Remarks and modification\n",
    "</p> \n",
    "</div>\n",
    "\n",
    "- [x] column gender has a false entry need to change or deleted\n",
    "- [ ] hypertension has some sort of umbalence number of entry \n",
    "- [ ] the same thing with hear_disease \n",
    "- [ ] work_type hase some value that contain \"private\" what that mean ? \n",
    "- [ ] glucose_level values are between 55 and 272  with mean 106\n",
    "- [ ] bmi has some sort of missing value with 201 values and high correlation missing need to understand why \n",
    "- [ ] understand the corrolation between all the attributes."
   ]
  },
  {
   "cell_type": "code",
   "execution_count": 3,
   "id": "29b039c8-3e1b-4d38-b8ef-4f3536a2b9b4",
   "metadata": {},
   "outputs": [],
   "source": [
    "df = raw_df.copy()"
   ]
  },
  {
   "cell_type": "markdown",
   "id": "463e7ba4-1f69-4339-b44b-77f52d224dfc",
   "metadata": {
    "tags": []
   },
   "source": [
    "<h4 id=\"heading\"><span style=\"background-color:#fcf3b9; color:#3d3710 ; display:fill;border-radius:5px; font-family:Georgia\">1. 🔨🪛 Replace Values </span></h4>"
   ]
  },
  {
   "cell_type": "code",
   "execution_count": 4,
   "id": "9f13dda9-1351-42a0-b25a-cbab09d0a9da",
   "metadata": {},
   "outputs": [],
   "source": [
    "# retrive the index of rows that have other gender\n",
    "ki=df.index[df['gender']=='Other'].item()"
   ]
  },
  {
   "cell_type": "code",
   "execution_count": 5,
   "id": "72352968-5275-402c-aeac-4451c811ff6d",
   "metadata": {
    "tags": []
   },
   "outputs": [],
   "source": [
    "# drop the rows that have other as gender\n",
    "df=df.drop([ki])\n"
   ]
  },
  {
   "cell_type": "code",
   "execution_count": 6,
   "id": "1c57bb03-956e-4d77-a9f9-a1520734ca87",
   "metadata": {
    "tags": []
   },
   "outputs": [
    {
     "data": {
      "text/plain": [
       "Female    2994\n",
       "Male      2115\n",
       "Name: gender, dtype: int64"
      ]
     },
     "execution_count": 6,
     "metadata": {},
     "output_type": "execute_result"
    }
   ],
   "source": [
    "# Check if the changes are applied successfully\n",
    "df['gender'].value_counts()"
   ]
  },
  {
   "cell_type": "markdown",
   "id": "194afdcd-23e7-4909-bbed-eabf25f1ddb1",
   "metadata": {
    "tags": []
   },
   "source": [
    "<h4 id=\"heading\"><span style=\"background-color:#fcf3b9; color:#3d3710 ; display:fill;border-radius:5px; font-family:Georgia\">2. 🔨🪛 Fill the missing Values </span></h4>"
   ]
  },
  {
   "cell_type": "code",
   "execution_count": 7,
   "id": "880f910a-5281-4e2e-823b-76a75bc27aeb",
   "metadata": {
    "tags": []
   },
   "outputs": [
    {
     "data": {
      "text/plain": [
       "id                     0\n",
       "gender                 0\n",
       "age                    0\n",
       "hypertension           0\n",
       "heart_disease          0\n",
       "ever_married           0\n",
       "work_type              0\n",
       "Residence_type         0\n",
       "avg_glucose_level      0\n",
       "bmi                  201\n",
       "smoking_status         0\n",
       "stroke                 0\n",
       "dtype: int64"
      ]
     },
     "execution_count": 7,
     "metadata": {},
     "output_type": "execute_result"
    }
   ],
   "source": [
    "df.isna().sum()\n",
    "# function that can musure the corrolation between map as ilustration and plots\n",
    "# msno.matrix(df)\n",
    "# msno.bar(df)\n",
    "# msno.heatmap(df)\n",
    "# msno.dendrogram(df)"
   ]
  },
  {
   "cell_type": "code",
   "execution_count": 8,
   "id": "27de5b9d-c867-4094-b428-8c1ad1295b71",
   "metadata": {},
   "outputs": [],
   "source": [
    "# Replace null value in the avg_glucose_level\n",
    "\n",
    "df['bmi']=df['bmi'].fillna(df['bmi'].mean())"
   ]
  },
  {
   "cell_type": "code",
   "execution_count": 9,
   "id": "3149c853-e4c5-450f-b6a1-cded8decc774",
   "metadata": {},
   "outputs": [
    {
     "name": "stdout",
     "output_type": "stream",
     "text": [
      "id                   0\n",
      "gender               0\n",
      "age                  0\n",
      "hypertension         0\n",
      "heart_disease        0\n",
      "ever_married         0\n",
      "work_type            0\n",
      "Residence_type       0\n",
      "avg_glucose_level    0\n",
      "bmi                  0\n",
      "smoking_status       0\n",
      "stroke               0\n",
      "dtype: int64\n"
     ]
    }
   ],
   "source": [
    "print(df.isna().sum())"
   ]
  },
  {
   "cell_type": "markdown",
   "id": "49bab0e0-98c3-4fe7-9ad7-bf46915a60fd",
   "metadata": {
    "tags": []
   },
   "source": [
    "***\n",
    "<h2 id=\"heading\"><span style=\"background-color:#cefffb; color:#1b4946; display:fill;border-radius:5px; font-family:cursive\"> 💱 Check the change  </span></h2>"
   ]
  },
  {
   "cell_type": "code",
   "execution_count": 10,
   "id": "87df16ac-0521-4def-b318-af382460634f",
   "metadata": {},
   "outputs": [
    {
     "data": {
      "text/html": [
       "<div>\n",
       "<style scoped>\n",
       "    .dataframe tbody tr th:only-of-type {\n",
       "        vertical-align: middle;\n",
       "    }\n",
       "\n",
       "    .dataframe tbody tr th {\n",
       "        vertical-align: top;\n",
       "    }\n",
       "\n",
       "    .dataframe thead th {\n",
       "        text-align: right;\n",
       "    }\n",
       "</style>\n",
       "<table border=\"1\" class=\"dataframe\">\n",
       "  <thead>\n",
       "    <tr style=\"text-align: right;\">\n",
       "      <th></th>\n",
       "      <th>id</th>\n",
       "      <th>gender</th>\n",
       "      <th>age</th>\n",
       "      <th>hypertension</th>\n",
       "      <th>heart_disease</th>\n",
       "      <th>ever_married</th>\n",
       "      <th>work_type</th>\n",
       "      <th>Residence_type</th>\n",
       "      <th>avg_glucose_level</th>\n",
       "      <th>bmi</th>\n",
       "      <th>smoking_status</th>\n",
       "      <th>stroke</th>\n",
       "    </tr>\n",
       "  </thead>\n",
       "  <tbody>\n",
       "    <tr>\n",
       "      <th>0</th>\n",
       "      <td>9046</td>\n",
       "      <td>Male</td>\n",
       "      <td>67.0</td>\n",
       "      <td>0</td>\n",
       "      <td>1</td>\n",
       "      <td>Yes</td>\n",
       "      <td>Private</td>\n",
       "      <td>Urban</td>\n",
       "      <td>228.69</td>\n",
       "      <td>36.60000</td>\n",
       "      <td>formerly smoked</td>\n",
       "      <td>1</td>\n",
       "    </tr>\n",
       "    <tr>\n",
       "      <th>1</th>\n",
       "      <td>51676</td>\n",
       "      <td>Female</td>\n",
       "      <td>61.0</td>\n",
       "      <td>0</td>\n",
       "      <td>0</td>\n",
       "      <td>Yes</td>\n",
       "      <td>Self-employed</td>\n",
       "      <td>Rural</td>\n",
       "      <td>202.21</td>\n",
       "      <td>28.89456</td>\n",
       "      <td>never smoked</td>\n",
       "      <td>1</td>\n",
       "    </tr>\n",
       "    <tr>\n",
       "      <th>2</th>\n",
       "      <td>31112</td>\n",
       "      <td>Male</td>\n",
       "      <td>80.0</td>\n",
       "      <td>0</td>\n",
       "      <td>1</td>\n",
       "      <td>Yes</td>\n",
       "      <td>Private</td>\n",
       "      <td>Rural</td>\n",
       "      <td>105.92</td>\n",
       "      <td>32.50000</td>\n",
       "      <td>never smoked</td>\n",
       "      <td>1</td>\n",
       "    </tr>\n",
       "    <tr>\n",
       "      <th>3</th>\n",
       "      <td>60182</td>\n",
       "      <td>Female</td>\n",
       "      <td>49.0</td>\n",
       "      <td>0</td>\n",
       "      <td>0</td>\n",
       "      <td>Yes</td>\n",
       "      <td>Private</td>\n",
       "      <td>Urban</td>\n",
       "      <td>171.23</td>\n",
       "      <td>34.40000</td>\n",
       "      <td>smokes</td>\n",
       "      <td>1</td>\n",
       "    </tr>\n",
       "    <tr>\n",
       "      <th>4</th>\n",
       "      <td>1665</td>\n",
       "      <td>Female</td>\n",
       "      <td>79.0</td>\n",
       "      <td>1</td>\n",
       "      <td>0</td>\n",
       "      <td>Yes</td>\n",
       "      <td>Self-employed</td>\n",
       "      <td>Rural</td>\n",
       "      <td>174.12</td>\n",
       "      <td>24.00000</td>\n",
       "      <td>never smoked</td>\n",
       "      <td>1</td>\n",
       "    </tr>\n",
       "  </tbody>\n",
       "</table>\n",
       "</div>"
      ],
      "text/plain": [
       "      id  gender   age  hypertension  heart_disease ever_married  \\\n",
       "0   9046    Male  67.0             0              1          Yes   \n",
       "1  51676  Female  61.0             0              0          Yes   \n",
       "2  31112    Male  80.0             0              1          Yes   \n",
       "3  60182  Female  49.0             0              0          Yes   \n",
       "4   1665  Female  79.0             1              0          Yes   \n",
       "\n",
       "       work_type Residence_type  avg_glucose_level       bmi   smoking_status  \\\n",
       "0        Private          Urban             228.69  36.60000  formerly smoked   \n",
       "1  Self-employed          Rural             202.21  28.89456     never smoked   \n",
       "2        Private          Rural             105.92  32.50000     never smoked   \n",
       "3        Private          Urban             171.23  34.40000           smokes   \n",
       "4  Self-employed          Rural             174.12  24.00000     never smoked   \n",
       "\n",
       "   stroke  \n",
       "0       1  \n",
       "1       1  \n",
       "2       1  \n",
       "3       1  \n",
       "4       1  "
      ]
     },
     "execution_count": 10,
     "metadata": {},
     "output_type": "execute_result"
    }
   ],
   "source": [
    "df.head()"
   ]
  },
  {
   "cell_type": "markdown",
   "id": "486e549b-26c1-485b-b53e-b109e667db50",
   "metadata": {
    "tags": []
   },
   "source": [
    "***\n",
    "<h2 id=\"heading\"><span style=\"background-color:#cefffb; color:#1b4946; display:fill;border-radius:5px; font-family:cursive\"> 📤 Exporting Pickle </span></h2>"
   ]
  },
  {
   "cell_type": "code",
   "execution_count": 11,
   "id": "634a8952-08d2-4704-b272-6b8f7ef35106",
   "metadata": {},
   "outputs": [
    {
     "data": {
      "text/plain": [
       "'../data/processed/1_preprocessed_df.pkl'"
      ]
     },
     "execution_count": 11,
     "metadata": {},
     "output_type": "execute_result"
    }
   ],
   "source": [
    "EXPORT_PATH"
   ]
  },
  {
   "cell_type": "code",
   "execution_count": 12,
   "id": "15adfc69-c3a2-49db-bbb6-ca50a3441abe",
   "metadata": {},
   "outputs": [],
   "source": [
    "with open(EXPORT_PATH, 'wb') as f:\n",
    "    pickle.dump(df, f)\n",
    "# We can also use: $ df.to_pickle(EXPORT_PATH)"
   ]
  },
  {
   "cell_type": "code",
   "execution_count": 13,
   "id": "236157c3-06f4-4e26-9524-3b0ffa40789b",
   "metadata": {
    "tags": []
   },
   "outputs": [],
   "source": [
    "# For import the pickle from the path\n",
    "xr= pd.read_pickle(EXPORT_PATH)"
   ]
  }
 ],
 "metadata": {
  "kernelspec": {
   "display_name": "Python 3 (ipykernel)",
   "language": "python",
   "name": "python3"
  },
  "language_info": {
   "codemirror_mode": {
    "name": "ipython",
    "version": 3
   },
   "file_extension": ".py",
   "mimetype": "text/x-python",
   "name": "python",
   "nbconvert_exporter": "python",
   "pygments_lexer": "ipython3",
   "version": "3.10.6"
  }
 },
 "nbformat": 4,
 "nbformat_minor": 5
}
